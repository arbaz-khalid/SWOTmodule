{
 "cells": [
  {
   "cell_type": "markdown",
   "metadata": {},
   "source": [
    "# SWOT denoising module: description and use\n",
    "\n",
    "* Emmanuel Cosme, Laura Gómez Navarro, Julien Le Sommer, Nicolas Papadakis, Ananda Pascual, Audrey Monsimer\n",
    "* Objective: Describe the denoising methods and show how to call them\n",
    "\n",
    "### History\n",
    "\n",
    "* March 2018: creation\n",
    "* January 2020: conda environment (A. Albert)\n",
    "* April 2023: bilateral filter (M. A. Abdulfatai)\n"
   ]
  },
  {
   "cell_type": "code",
   "execution_count": null,
   "metadata": {},
   "outputs": [],
   "source": [
    "import time\n",
    "\n",
    "print('Last update:', time.ctime(time.time())) \n"
   ]
  },
  {
   "cell_type": "markdown",
   "metadata": {
    "tags": []
   },
   "source": [
    "### Conda environment info\n",
    "\n",
    "Use of a conda environment configuration file : env_swotmod.yml\n",
    "```conda env create -f env_swotmod.yml```\n",
    "then\n",
    "```conda activate swotmod```\n",
    "\n",
    "To make it appear on the list of kernels proposed by jupyter :\n",
    "\n",
    "```python -m ipykernel install --user --name swotmod --display swotmod```\n",
    "\n",
    "All the libraries needeed ara now installed !"
   ]
  },
  {
   "cell_type": "markdown",
   "metadata": {},
   "source": [
    "## 0. Imports, versions, plots, input files"
   ]
  },
  {
   "cell_type": "code",
   "execution_count": null,
   "metadata": {},
   "outputs": [],
   "source": [
    "import numpy as np\n",
    "import matplotlib.pyplot as plt\n",
    "%matplotlib inline\n",
    "import xarray as xr\n",
    "\n",
    "import SWOTdenoise as swotd\n",
    "\n",
    "# Libraries needed in SWOT module\n",
    "import netCDF4\n",
    "import scipy\n",
    "\n",
    "%load_ext autoreload\n",
    "%autoreload 2"
   ]
  },
  {
   "cell_type": "markdown",
   "metadata": {},
   "source": [
    "###  A function for plots\n",
    "This function plots a SSH field as read in a SWOT file.\n",
    "The function calls the fill_nadir_gap function of the SWOTdenoise module, to clearly show the gap. Otherwise, pyplot fills the gap by crudely interpolating the data between the two swaths."
   ]
  },
  {
   "cell_type": "code",
   "execution_count": null,
   "metadata": {},
   "outputs": [],
   "source": [
    "vmin = -0.3\n",
    "vmax = 0.15\n",
    "\n",
    "def splot(sshin):\n",
    "    _, lon, lat, x_ac, time = swotd.read_data(filename, 'SSH_obs', 'lon', 'lat', 'x_ac', 'time')\n",
    "    ssh_f, lon_f, lat_f, x_ac_f = swotd.fill_nadir_gap(sshin, lon, lat, x_ac, time)\n",
    "    cs = plt.pcolormesh(lon_f, lat_f, ssh_f, vmin=vmin, vmax=vmax)\n",
    "    plt.colorbar(cs)\n",
    "    \n",
    "def splot_inpainted(sshin, lonin, latin):\n",
    "    cs = plt.pcolormesh(lonin, latin, sshin, vmin=vmin, vmax=vmax)\n",
    "    plt.colorbar(cs)"
   ]
  },
  {
   "cell_type": "markdown",
   "metadata": {},
   "source": [
    "### Inputs"
   ]
  },
  {
   "cell_type": "code",
   "execution_count": null,
   "metadata": {},
   "outputs": [],
   "source": [
    "filedir  = 'example_data/'\n",
    "filename = filedir + 'MED_fastPhase_1km_swotFAST_c01_p009.nc'"
   ]
  },
  {
   "cell_type": "markdown",
   "metadata": {},
   "source": [
    "## 1. Call the _SWOTdenoise_ function\n",
    "\n",
    "### 1.1 Using a file name\n",
    "\n",
    "The ```SWOTdenoise``` function can be called by providing the SWOT Netcdf file name only. If no output file name is given in argument, the denoised field is returned in another Netcdf file named **foo_denoised.nc** if the input file is **foo.nc**. It is created in the same directory."
   ]
  },
  {
   "cell_type": "code",
   "execution_count": null,
   "metadata": {},
   "outputs": [],
   "source": [
    "output_filename = 'None'\n",
    "swotd.SWOTdenoise(filename, output_filename)"
   ]
  },
  {
   "cell_type": "markdown",
   "metadata": {},
   "source": [
    "#### Plot raw initial (left) and denoised (right) SSH"
   ]
  },
  {
   "cell_type": "code",
   "execution_count": null,
   "metadata": {},
   "outputs": [],
   "source": [
    "## Load initial SSH\n",
    "ssh, lon, lat, x_ac, time = swotd.read_data(filename, 'SSH_obs', 'lon', 'lat', 'x_ac', 'time')\n",
    "\n",
    "## Load denoised SSH\n",
    "filename_den = filedir + 'MED_fastPhase_1km_swotFAST_c01_p009_denoised.nc'\n",
    "ssh_den1, lon, lat, x_ac, time = swotd.read_data(filename_den, 'SSH', 'lon', 'lat', 'x_ac', 'time')\n",
    "\n",
    "## Plots\n",
    "plt.figure(figsize=(12,5))\n",
    "plt.subplot(1,2,1)\n",
    "splot(ssh)\n",
    "plt.subplot(1,2,2)\n",
    "splot(ssh_den1)"
   ]
  },
  {
   "cell_type": "markdown",
   "metadata": {},
   "source": [
    "### 1.2 Using input arrays\n",
    "\n",
    "The ```SWOTdenoise``` function can also be used by providing the appropriate arrays as keywords arguments: ```ssh, lon, lat, x_ac, time```. The denoised SSH is then returned. In the example below, these arrays are first read in the SWOT file using the ```read_data``` function of the module:"
   ]
  },
  {
   "cell_type": "code",
   "execution_count": null,
   "metadata": {},
   "outputs": [],
   "source": [
    "ssh_den2 = swotd.SWOTdenoise(ssh=ssh, lon=lon, lat=lat, x_ac=x_ac, time=time)"
   ]
  },
  {
   "cell_type": "markdown",
   "metadata": {},
   "source": [
    "#### Plot raw initial (left) and denoised (right) SSH"
   ]
  },
  {
   "cell_type": "code",
   "execution_count": null,
   "metadata": {},
   "outputs": [],
   "source": [
    "plt.figure(figsize=(12,5))\n",
    "plt.subplot(1,2,1)\n",
    "splot(ssh)\n",
    "plt.subplot(1,2,2)\n",
    "splot(ssh_den2)"
   ]
  },
  {
   "cell_type": "markdown",
   "metadata": {},
   "source": [
    "## 2. Denoising methods and optional parameters\n",
    "\n",
    "In addition to the arguments described above, the ```SWOTdenoise``` function takes 5 optional arguments:\n",
    "\n",
    "- ```method```: ```gaussian```, ```boxcar```, , ```bilateral_filter``` or ```var_reg_fista```;\n",
    "- ```param```: number for ```gaussian``` and ```boxcar```; 2-entry tuple for ```bilateral_filter```; 3-entry tuple for ```var_reg_fista```;\n",
    "- ```itermax```: only for ```var_reg_fista```: maximum number of iterations in the gradient descent algortihm;\n",
    "- ```epsilon```: only for ```var_reg_fista```: convergence criterium for the gradient descent algortihm;\n",
    "- ```inpainting```: if ```True```, the nadir gap is inpainted. If ```False```, it is not and the returned SSH array is of the same shape as the original one. If the ```SWOTdenoise``` function is called using arrays (see above description) with ```inpainting=True```, then it returns SSH, lon, and lat arrays. If it is called using arrays with ```inpainting=False```, it returns only SSH, since lon and lat arrays are the same as for the input field.\n",
    "\n",
    "Default is the varitional regularization method with prescribed parameters (0, 10, 0) and no inpainting.\n",
    "\n",
    "Examples are given below."
   ]
  },
  {
   "cell_type": "code",
   "execution_count": null,
   "metadata": {},
   "outputs": [],
   "source": [
    "ssh, lon, lat, x_ac, time = swotd.read_data(filename, 'SSH_obs', 'lon', 'lat', 'x_ac', 'time')"
   ]
  },
  {
   "cell_type": "code",
   "execution_count": null,
   "metadata": {},
   "outputs": [],
   "source": [
    "splot(ssh)"
   ]
  },
  {
   "cell_type": "markdown",
   "metadata": {},
   "source": [
    "### Gaussian filter"
   ]
  },
  {
   "cell_type": "code",
   "execution_count": null,
   "metadata": {},
   "outputs": [],
   "source": [
    "ssh_gau = swotd.SWOTdenoise(ssh=ssh, lon=lon, lat=lat, x_ac=x_ac, time=time, method='gaussian', param=10.)\n",
    "splot(ssh_gau)\n"
   ]
  },
  {
   "cell_type": "markdown",
   "metadata": {},
   "source": [
    "### Boxcar filter:"
   ]
  },
  {
   "cell_type": "code",
   "execution_count": null,
   "metadata": {},
   "outputs": [],
   "source": [
    "ssh_box = swotd.SWOTdenoise(ssh=ssh, lon=lon, lat=lat, x_ac=x_ac, time=time, method='boxcar', param=4.)\n",
    "splot(ssh_box)"
   ]
  },
  {
   "cell_type": "markdown",
   "metadata": {},
   "source": [
    "### Variational regularization filter\n",
    "\n",
    "The method uses the second-order term (laplacian) only, with parameter 4, a maximum of 500 iterations and fills the nadir gap with inpainting.\n",
    "\n",
    "The function prints the number of iterations of the gradient descent method, and the convergence ratio. The convergence ratio is defined here as the ratio between the norm of the descent increment and the convergence factor (equal to 1e-9 by default). Iterations stops when the convergence ratio is below 1."
   ]
  },
  {
   "cell_type": "code",
   "execution_count": null,
   "metadata": {},
   "outputs": [],
   "source": [
    "ssh_vr2, lon_vr2, lat_vr2 = swotd.SWOTdenoise(ssh=ssh, lon=lon, lat=lat, x_ac=x_ac, time=time, method='var_reg_fista',\n",
    "                                              param=(0,4,0), itermax = 500, inpainting=True)\n",
    "splot_inpainted(ssh_vr2, lon_vr2, lat_vr2)"
   ]
  },
  {
   "cell_type": "markdown",
   "metadata": {},
   "source": [
    "### Bilateral filter\n",
    "\n",
    "This takes several minutes on a laptop. The code requires optimization.\n",
    "\n",
    "The first parameter is the standard deviation in pixels for the (gaussian) spatial filter. The second one is the standard deviation in SSH units (m) for the photometric filter.\n",
    "\n",
    "A good reference is: 10.1109/MSP.2011.2179329"
   ]
  },
  {
   "cell_type": "code",
   "execution_count": null,
   "metadata": {
    "scrolled": true
   },
   "outputs": [],
   "source": [
    "ssh_b = swotd.SWOTdenoise(ssh=ssh, lon=lon, lat=lat, x_ac=x_ac, time=time, method='bilateral_filter', param=(4,0.04) )\n",
    "splot(ssh_b)"
   ]
  },
  {
   "cell_type": "code",
   "execution_count": null,
   "metadata": {},
   "outputs": [],
   "source": []
  }
 ],
 "metadata": {
  "anaconda-cloud": {},
  "kernelspec": {
   "display_name": "Python 3 (ipykernel)",
   "language": "python",
   "name": "python3"
  },
  "language_info": {
   "codemirror_mode": {
    "name": "ipython",
    "version": 3
   },
   "file_extension": ".py",
   "mimetype": "text/x-python",
   "name": "python",
   "nbconvert_exporter": "python",
   "pygments_lexer": "ipython3",
   "version": "3.7.15"
  }
 },
 "nbformat": 4,
 "nbformat_minor": 4
}
